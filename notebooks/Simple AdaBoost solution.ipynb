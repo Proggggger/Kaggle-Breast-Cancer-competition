{
 "cells": [
  {
   "cell_type": "code",
   "execution_count": 2,
   "id": "6ee73c46",
   "metadata": {},
   "outputs": [],
   "source": [
    "import pandas as pd\n",
    "import numpy as np\n",
    "import plotly.express as px\n",
    "import plotly.graph_objects as go"
   ]
  },
  {
   "cell_type": "markdown",
   "id": "5f7a4e4d",
   "metadata": {},
   "source": [
    "# Breast Cancer Dataset"
   ]
  },
  {
   "cell_type": "markdown",
   "id": "254d14b7",
   "metadata": {},
   "source": [
    "Based on Kaggle competition https://www.kaggle.com/competitions/breast-cancer-detection/overview"
   ]
  },
  {
   "cell_type": "code",
   "execution_count": null,
   "id": "e6414503",
   "metadata": {},
   "outputs": [],
   "source": [
    "X_raw = pd.read_csv('../data/train.csv')"
   ]
  },
  {
   "cell_type": "markdown",
   "id": "5add95ff",
   "metadata": {},
   "source": [
    "We've loaded the **train** dataset. Let's take a look at our data and see which columns are unnecessary."
   ]
  },
  {
   "cell_type": "code",
   "execution_count": 4,
   "id": "6ce11b4f",
   "metadata": {},
   "outputs": [
    {
     "data": {
      "text/plain": [
       "diagnosis\n",
       "B    242\n",
       "M    156\n",
       "Name: count, dtype: int64"
      ]
     },
     "execution_count": 4,
     "metadata": {},
     "output_type": "execute_result"
    }
   ],
   "source": [
    "X_raw['diagnosis'].value_counts()"
   ]
  },
  {
   "cell_type": "markdown",
   "id": "7d665d95",
   "metadata": {},
   "source": [
    "Class imbalance is present in the dataset, but AdaBoost's design allows it to perform well despite this challenge."
   ]
  },
  {
   "cell_type": "code",
   "execution_count": 5,
   "id": "aeeac5ae",
   "metadata": {},
   "outputs": [
    {
     "data": {
      "text/html": [
       "<div>\n",
       "<style scoped>\n",
       "    .dataframe tbody tr th:only-of-type {\n",
       "        vertical-align: middle;\n",
       "    }\n",
       "\n",
       "    .dataframe tbody tr th {\n",
       "        vertical-align: top;\n",
       "    }\n",
       "\n",
       "    .dataframe thead th {\n",
       "        text-align: right;\n",
       "    }\n",
       "</style>\n",
       "<table border=\"1\" class=\"dataframe\">\n",
       "  <thead>\n",
       "    <tr style=\"text-align: right;\">\n",
       "      <th></th>\n",
       "      <th>id</th>\n",
       "      <th>radius_mean</th>\n",
       "      <th>texture_mean</th>\n",
       "      <th>perimeter_mean</th>\n",
       "      <th>area_mean</th>\n",
       "      <th>smoothness_mean</th>\n",
       "      <th>compactness_mean</th>\n",
       "      <th>concavity_mean</th>\n",
       "      <th>concave points_mean</th>\n",
       "      <th>symmetry_mean</th>\n",
       "      <th>...</th>\n",
       "      <th>texture_worst</th>\n",
       "      <th>perimeter_worst</th>\n",
       "      <th>area_worst</th>\n",
       "      <th>smoothness_worst</th>\n",
       "      <th>compactness_worst</th>\n",
       "      <th>concavity_worst</th>\n",
       "      <th>concave points_worst</th>\n",
       "      <th>symmetry_worst</th>\n",
       "      <th>fractal_dimension_worst</th>\n",
       "      <th>Unnamed: 32</th>\n",
       "    </tr>\n",
       "  </thead>\n",
       "  <tbody>\n",
       "    <tr>\n",
       "      <th>count</th>\n",
       "      <td>3.980000e+02</td>\n",
       "      <td>398.000000</td>\n",
       "      <td>398.000000</td>\n",
       "      <td>398.000000</td>\n",
       "      <td>398.000000</td>\n",
       "      <td>398.000000</td>\n",
       "      <td>398.000000</td>\n",
       "      <td>398.000000</td>\n",
       "      <td>398.000000</td>\n",
       "      <td>398.000000</td>\n",
       "      <td>...</td>\n",
       "      <td>398.000000</td>\n",
       "      <td>398.000000</td>\n",
       "      <td>398.000000</td>\n",
       "      <td>398.000000</td>\n",
       "      <td>398.000000</td>\n",
       "      <td>398.000000</td>\n",
       "      <td>398.000000</td>\n",
       "      <td>398.000000</td>\n",
       "      <td>398.000000</td>\n",
       "      <td>0.0</td>\n",
       "    </tr>\n",
       "    <tr>\n",
       "      <th>mean</th>\n",
       "      <td>2.983734e+07</td>\n",
       "      <td>14.183236</td>\n",
       "      <td>19.274171</td>\n",
       "      <td>92.345377</td>\n",
       "      <td>660.460553</td>\n",
       "      <td>0.096540</td>\n",
       "      <td>0.104395</td>\n",
       "      <td>0.090043</td>\n",
       "      <td>0.049586</td>\n",
       "      <td>0.181707</td>\n",
       "      <td>...</td>\n",
       "      <td>25.607663</td>\n",
       "      <td>107.907688</td>\n",
       "      <td>891.912563</td>\n",
       "      <td>0.132461</td>\n",
       "      <td>0.254167</td>\n",
       "      <td>0.276683</td>\n",
       "      <td>0.116187</td>\n",
       "      <td>0.291139</td>\n",
       "      <td>0.083802</td>\n",
       "      <td>NaN</td>\n",
       "    </tr>\n",
       "    <tr>\n",
       "      <th>std</th>\n",
       "      <td>1.278476e+08</td>\n",
       "      <td>3.548961</td>\n",
       "      <td>4.119494</td>\n",
       "      <td>24.438949</td>\n",
       "      <td>351.641745</td>\n",
       "      <td>0.014136</td>\n",
       "      <td>0.051625</td>\n",
       "      <td>0.080718</td>\n",
       "      <td>0.039031</td>\n",
       "      <td>0.027905</td>\n",
       "      <td>...</td>\n",
       "      <td>5.947946</td>\n",
       "      <td>33.937742</td>\n",
       "      <td>577.586383</td>\n",
       "      <td>0.021980</td>\n",
       "      <td>0.148297</td>\n",
       "      <td>0.209022</td>\n",
       "      <td>0.064881</td>\n",
       "      <td>0.060838</td>\n",
       "      <td>0.016672</td>\n",
       "      <td>NaN</td>\n",
       "    </tr>\n",
       "    <tr>\n",
       "      <th>min</th>\n",
       "      <td>8.670000e+03</td>\n",
       "      <td>6.981000</td>\n",
       "      <td>9.710000</td>\n",
       "      <td>43.790000</td>\n",
       "      <td>143.500000</td>\n",
       "      <td>0.052630</td>\n",
       "      <td>0.019380</td>\n",
       "      <td>0.000000</td>\n",
       "      <td>0.000000</td>\n",
       "      <td>0.116700</td>\n",
       "      <td>...</td>\n",
       "      <td>12.020000</td>\n",
       "      <td>50.410000</td>\n",
       "      <td>185.200000</td>\n",
       "      <td>0.081250</td>\n",
       "      <td>0.034320</td>\n",
       "      <td>0.000000</td>\n",
       "      <td>0.000000</td>\n",
       "      <td>0.156500</td>\n",
       "      <td>0.055040</td>\n",
       "      <td>NaN</td>\n",
       "    </tr>\n",
       "    <tr>\n",
       "      <th>25%</th>\n",
       "      <td>8.666840e+05</td>\n",
       "      <td>11.717500</td>\n",
       "      <td>16.345000</td>\n",
       "      <td>75.467500</td>\n",
       "      <td>421.275000</td>\n",
       "      <td>0.086755</td>\n",
       "      <td>0.066712</td>\n",
       "      <td>0.030090</td>\n",
       "      <td>0.020710</td>\n",
       "      <td>0.161925</td>\n",
       "      <td>...</td>\n",
       "      <td>21.392500</td>\n",
       "      <td>84.430000</td>\n",
       "      <td>516.425000</td>\n",
       "      <td>0.117275</td>\n",
       "      <td>0.147325</td>\n",
       "      <td>0.117125</td>\n",
       "      <td>0.065600</td>\n",
       "      <td>0.252625</td>\n",
       "      <td>0.072310</td>\n",
       "      <td>NaN</td>\n",
       "    </tr>\n",
       "    <tr>\n",
       "      <th>50%</th>\n",
       "      <td>9.052360e+05</td>\n",
       "      <td>13.445000</td>\n",
       "      <td>18.895000</td>\n",
       "      <td>86.965000</td>\n",
       "      <td>556.950000</td>\n",
       "      <td>0.095825</td>\n",
       "      <td>0.094740</td>\n",
       "      <td>0.064905</td>\n",
       "      <td>0.033950</td>\n",
       "      <td>0.180050</td>\n",
       "      <td>...</td>\n",
       "      <td>25.300000</td>\n",
       "      <td>99.165000</td>\n",
       "      <td>700.650000</td>\n",
       "      <td>0.131350</td>\n",
       "      <td>0.217000</td>\n",
       "      <td>0.238900</td>\n",
       "      <td>0.105350</td>\n",
       "      <td>0.282800</td>\n",
       "      <td>0.079960</td>\n",
       "      <td>NaN</td>\n",
       "    </tr>\n",
       "    <tr>\n",
       "      <th>75%</th>\n",
       "      <td>8.810979e+06</td>\n",
       "      <td>16.115000</td>\n",
       "      <td>21.695000</td>\n",
       "      <td>106.525000</td>\n",
       "      <td>802.025000</td>\n",
       "      <td>0.106075</td>\n",
       "      <td>0.130500</td>\n",
       "      <td>0.132050</td>\n",
       "      <td>0.074112</td>\n",
       "      <td>0.196550</td>\n",
       "      <td>...</td>\n",
       "      <td>29.425000</td>\n",
       "      <td>127.100000</td>\n",
       "      <td>1143.500000</td>\n",
       "      <td>0.145900</td>\n",
       "      <td>0.342675</td>\n",
       "      <td>0.386400</td>\n",
       "      <td>0.166075</td>\n",
       "      <td>0.320600</td>\n",
       "      <td>0.092075</td>\n",
       "      <td>NaN</td>\n",
       "    </tr>\n",
       "    <tr>\n",
       "      <th>max</th>\n",
       "      <td>9.113205e+08</td>\n",
       "      <td>27.420000</td>\n",
       "      <td>33.810000</td>\n",
       "      <td>186.900000</td>\n",
       "      <td>2501.000000</td>\n",
       "      <td>0.163400</td>\n",
       "      <td>0.345400</td>\n",
       "      <td>0.426800</td>\n",
       "      <td>0.201200</td>\n",
       "      <td>0.304000</td>\n",
       "      <td>...</td>\n",
       "      <td>49.540000</td>\n",
       "      <td>251.200000</td>\n",
       "      <td>4254.000000</td>\n",
       "      <td>0.200600</td>\n",
       "      <td>0.932700</td>\n",
       "      <td>1.252000</td>\n",
       "      <td>0.291000</td>\n",
       "      <td>0.577400</td>\n",
       "      <td>0.148600</td>\n",
       "      <td>NaN</td>\n",
       "    </tr>\n",
       "  </tbody>\n",
       "</table>\n",
       "<p>8 rows × 32 columns</p>\n",
       "</div>"
      ],
      "text/plain": [
       "                 id  radius_mean  texture_mean  perimeter_mean    area_mean  \\\n",
       "count  3.980000e+02   398.000000    398.000000      398.000000   398.000000   \n",
       "mean   2.983734e+07    14.183236     19.274171       92.345377   660.460553   \n",
       "std    1.278476e+08     3.548961      4.119494       24.438949   351.641745   \n",
       "min    8.670000e+03     6.981000      9.710000       43.790000   143.500000   \n",
       "25%    8.666840e+05    11.717500     16.345000       75.467500   421.275000   \n",
       "50%    9.052360e+05    13.445000     18.895000       86.965000   556.950000   \n",
       "75%    8.810979e+06    16.115000     21.695000      106.525000   802.025000   \n",
       "max    9.113205e+08    27.420000     33.810000      186.900000  2501.000000   \n",
       "\n",
       "       smoothness_mean  compactness_mean  concavity_mean  concave points_mean  \\\n",
       "count       398.000000        398.000000      398.000000           398.000000   \n",
       "mean          0.096540          0.104395        0.090043             0.049586   \n",
       "std           0.014136          0.051625        0.080718             0.039031   \n",
       "min           0.052630          0.019380        0.000000             0.000000   \n",
       "25%           0.086755          0.066712        0.030090             0.020710   \n",
       "50%           0.095825          0.094740        0.064905             0.033950   \n",
       "75%           0.106075          0.130500        0.132050             0.074112   \n",
       "max           0.163400          0.345400        0.426800             0.201200   \n",
       "\n",
       "       symmetry_mean  ...  texture_worst  perimeter_worst   area_worst  \\\n",
       "count     398.000000  ...     398.000000       398.000000   398.000000   \n",
       "mean        0.181707  ...      25.607663       107.907688   891.912563   \n",
       "std         0.027905  ...       5.947946        33.937742   577.586383   \n",
       "min         0.116700  ...      12.020000        50.410000   185.200000   \n",
       "25%         0.161925  ...      21.392500        84.430000   516.425000   \n",
       "50%         0.180050  ...      25.300000        99.165000   700.650000   \n",
       "75%         0.196550  ...      29.425000       127.100000  1143.500000   \n",
       "max         0.304000  ...      49.540000       251.200000  4254.000000   \n",
       "\n",
       "       smoothness_worst  compactness_worst  concavity_worst  \\\n",
       "count        398.000000         398.000000       398.000000   \n",
       "mean           0.132461           0.254167         0.276683   \n",
       "std            0.021980           0.148297         0.209022   \n",
       "min            0.081250           0.034320         0.000000   \n",
       "25%            0.117275           0.147325         0.117125   \n",
       "50%            0.131350           0.217000         0.238900   \n",
       "75%            0.145900           0.342675         0.386400   \n",
       "max            0.200600           0.932700         1.252000   \n",
       "\n",
       "       concave points_worst  symmetry_worst  fractal_dimension_worst  \\\n",
       "count            398.000000      398.000000               398.000000   \n",
       "mean               0.116187        0.291139                 0.083802   \n",
       "std                0.064881        0.060838                 0.016672   \n",
       "min                0.000000        0.156500                 0.055040   \n",
       "25%                0.065600        0.252625                 0.072310   \n",
       "50%                0.105350        0.282800                 0.079960   \n",
       "75%                0.166075        0.320600                 0.092075   \n",
       "max                0.291000        0.577400                 0.148600   \n",
       "\n",
       "       Unnamed: 32  \n",
       "count          0.0  \n",
       "mean           NaN  \n",
       "std            NaN  \n",
       "min            NaN  \n",
       "25%            NaN  \n",
       "50%            NaN  \n",
       "75%            NaN  \n",
       "max            NaN  \n",
       "\n",
       "[8 rows x 32 columns]"
      ]
     },
     "execution_count": 5,
     "metadata": {},
     "output_type": "execute_result"
    }
   ],
   "source": [
    "X_raw.describe()"
   ]
  },
  {
   "cell_type": "markdown",
   "id": "5ba2b3b7",
   "metadata": {},
   "source": [
    "All numerical columns except _**Unnamed: 32**_ have some values, so they can be used. _**Unnamed: 32**_ can be dropped because it contains only **NaN** values and is not even described in the dataset instructions."
   ]
  },
  {
   "cell_type": "code",
   "execution_count": 6,
   "id": "d6a4c40c",
   "metadata": {},
   "outputs": [],
   "source": [
    "X_raw = X_raw.drop('Unnamed: 32', axis=1)\n",
    "X_raw = X_raw.drop('id', axis=1)"
   ]
  },
  {
   "cell_type": "code",
   "execution_count": 7,
   "id": "0d095d19",
   "metadata": {},
   "outputs": [
    {
     "data": {
      "text/plain": [
       "radius_mean                float64\n",
       "texture_mean               float64\n",
       "perimeter_mean             float64\n",
       "area_mean                  float64\n",
       "smoothness_mean            float64\n",
       "compactness_mean           float64\n",
       "concavity_mean             float64\n",
       "concave points_mean        float64\n",
       "symmetry_mean              float64\n",
       "fractal_dimension_mean     float64\n",
       "radius_se                  float64\n",
       "texture_se                 float64\n",
       "perimeter_se               float64\n",
       "area_se                    float64\n",
       "smoothness_se              float64\n",
       "compactness_se             float64\n",
       "concavity_se               float64\n",
       "concave points_se          float64\n",
       "symmetry_se                float64\n",
       "fractal_dimension_se       float64\n",
       "radius_worst               float64\n",
       "texture_worst              float64\n",
       "perimeter_worst            float64\n",
       "area_worst                 float64\n",
       "smoothness_worst           float64\n",
       "compactness_worst          float64\n",
       "concavity_worst            float64\n",
       "concave points_worst       float64\n",
       "symmetry_worst             float64\n",
       "fractal_dimension_worst    float64\n",
       "diagnosis                   object\n",
       "dtype: object"
      ]
     },
     "execution_count": 7,
     "metadata": {},
     "output_type": "execute_result"
    }
   ],
   "source": [
    "X_raw.dtypes"
   ]
  },
  {
   "cell_type": "code",
   "execution_count": 8,
   "id": "fcf25f7e",
   "metadata": {},
   "outputs": [
    {
     "data": {
      "text/plain": [
       "array(['M', 'B'], dtype=object)"
      ]
     },
     "execution_count": 8,
     "metadata": {},
     "output_type": "execute_result"
    }
   ],
   "source": [
    "X_raw['diagnosis'].unique()"
   ]
  },
  {
   "cell_type": "markdown",
   "id": "cfa2fcb4",
   "metadata": {},
   "source": [
    "Now let's deal with the **diagnosis** column; it contains two unique values (**M** = malignant, **B** = benign). As such data have an order, like *benign* being less dangerous than *malignant*, we can use `OrdinalEncoder`."
   ]
  },
  {
   "cell_type": "code",
   "execution_count": 9,
   "id": "02aef15c",
   "metadata": {},
   "outputs": [
    {
     "data": {
      "text/html": [
       "<div>\n",
       "<style scoped>\n",
       "    .dataframe tbody tr th:only-of-type {\n",
       "        vertical-align: middle;\n",
       "    }\n",
       "\n",
       "    .dataframe tbody tr th {\n",
       "        vertical-align: top;\n",
       "    }\n",
       "\n",
       "    .dataframe thead th {\n",
       "        text-align: right;\n",
       "    }\n",
       "</style>\n",
       "<table border=\"1\" class=\"dataframe\">\n",
       "  <thead>\n",
       "    <tr style=\"text-align: right;\">\n",
       "      <th></th>\n",
       "      <th>diagnosis</th>\n",
       "      <th>diagnosis_e</th>\n",
       "    </tr>\n",
       "  </thead>\n",
       "  <tbody>\n",
       "    <tr>\n",
       "      <th>0</th>\n",
       "      <td>M</td>\n",
       "      <td>1.0</td>\n",
       "    </tr>\n",
       "    <tr>\n",
       "      <th>1</th>\n",
       "      <td>B</td>\n",
       "      <td>0.0</td>\n",
       "    </tr>\n",
       "    <tr>\n",
       "      <th>2</th>\n",
       "      <td>M</td>\n",
       "      <td>1.0</td>\n",
       "    </tr>\n",
       "    <tr>\n",
       "      <th>3</th>\n",
       "      <td>B</td>\n",
       "      <td>0.0</td>\n",
       "    </tr>\n",
       "    <tr>\n",
       "      <th>4</th>\n",
       "      <td>M</td>\n",
       "      <td>1.0</td>\n",
       "    </tr>\n",
       "  </tbody>\n",
       "</table>\n",
       "</div>"
      ],
      "text/plain": [
       "  diagnosis  diagnosis_e\n",
       "0         M          1.0\n",
       "1         B          0.0\n",
       "2         M          1.0\n",
       "3         B          0.0\n",
       "4         M          1.0"
      ]
     },
     "execution_count": 9,
     "metadata": {},
     "output_type": "execute_result"
    }
   ],
   "source": [
    "from sklearn.preprocessing import  OrdinalEncoder\n",
    "enc = OrdinalEncoder()\n",
    "X_raw['diagnosis_e'] = enc.fit_transform(X_raw[['diagnosis']])\n",
    "X_raw[['diagnosis', 'diagnosis_e']].head()"
   ]
  },
  {
   "cell_type": "markdown",
   "id": "63961394",
   "metadata": {},
   "source": [
    "Now **B** -> `0` and **M** -> `1`"
   ]
  },
  {
   "cell_type": "code",
   "execution_count": 10,
   "id": "a6b8f9bf",
   "metadata": {},
   "outputs": [
    {
     "data": {
      "application/vnd.plotly.v1+json": {
       "config": {
        "plotlyServerURL": "https://plot.ly"
       },
       "data": [
        {
         "coloraxis": "coloraxis",
         "hovertemplate": "x: %{x}<br>y: %{y}<br>color: %{z}<extra></extra>",
         "name": "0",
         "texttemplate": "%{z}",
         "type": "heatmap",
         "x": [
          "radius_mean",
          "texture_mean",
          "perimeter_mean",
          "area_mean",
          "smoothness_mean",
          "compactness_mean",
          "concavity_mean",
          "concave points_mean",
          "symmetry_mean",
          "fractal_dimension_mean",
          "radius_se",
          "texture_se",
          "perimeter_se",
          "area_se",
          "smoothness_se",
          "compactness_se",
          "concavity_se",
          "concave points_se",
          "symmetry_se",
          "fractal_dimension_se",
          "radius_worst",
          "texture_worst",
          "perimeter_worst",
          "area_worst",
          "smoothness_worst",
          "compactness_worst",
          "concavity_worst",
          "concave points_worst",
          "symmetry_worst",
          "fractal_dimension_worst",
          "diagnosis_e"
         ],
         "xaxis": "x",
         "y": [
          "radius_mean",
          "texture_mean",
          "perimeter_mean",
          "area_mean",
          "smoothness_mean",
          "compactness_mean",
          "concavity_mean",
          "concave points_mean",
          "symmetry_mean",
          "fractal_dimension_mean",
          "radius_se",
          "texture_se",
          "perimeter_se",
          "area_se",
          "smoothness_se",
          "compactness_se",
          "concavity_se",
          "concave points_se",
          "symmetry_se",
          "fractal_dimension_se",
          "radius_worst",
          "texture_worst",
          "perimeter_worst",
          "area_worst",
          "smoothness_worst",
          "compactness_worst",
          "concavity_worst",
          "concave points_worst",
          "symmetry_worst",
          "fractal_dimension_worst",
          "diagnosis_e"
         ],
         "yaxis": "y",
         "z": [
          [
           1,
           0.36,
           1,
           0.99,
           0.18,
           0.51,
           0.66,
           0.82,
           0.17,
           -0.34,
           0.67,
           -0.08,
           0.66,
           0.74,
           -0.27,
           0.2,
           0.15,
           0.35,
           -0.12,
           -0.1,
           0.97,
           0.36,
           0.97,
           0.94,
           0.16,
           0.46,
           0.53,
           0.77,
           0.23,
           0,
           0.74
          ],
          [
           0.36,
           1,
           0.37,
           0.36,
           -0.01,
           0.24,
           0.32,
           0.33,
           0.08,
           -0.11,
           0.32,
           0.35,
           0.33,
           0.31,
           -0.03,
           0.14,
           0.1,
           0.15,
           0,
           0.01,
           0.38,
           0.92,
           0.39,
           0.37,
           0.1,
           0.29,
           0.32,
           0.33,
           0.14,
           0.11,
           0.45
          ],
          [
           1,
           0.37,
           1,
           0.99,
           0.21,
           0.57,
           0.7,
           0.85,
           0.2,
           -0.29,
           0.69,
           -0.07,
           0.69,
           0.75,
           -0.24,
           0.24,
           0.18,
           0.38,
           -0.1,
           -0.06,
           0.97,
           0.36,
           0.97,
           0.94,
           0.19,
           0.5,
           0.57,
           0.79,
           0.25,
           0.04,
           0.75
          ],
          [
           0.99,
           0.36,
           0.99,
           1,
           0.18,
           0.51,
           0.67,
           0.82,
           0.18,
           -0.31,
           0.72,
           -0.05,
           0.71,
           0.8,
           -0.21,
           0.21,
           0.17,
           0.35,
           -0.09,
           -0.07,
           0.97,
           0.35,
           0.97,
           0.97,
           0.17,
           0.44,
           0.52,
           0.75,
           0.22,
           0,
           0.72
          ],
          [
           0.18,
           -0.01,
           0.21,
           0.18,
           1,
           0.68,
           0.53,
           0.56,
           0.57,
           0.59,
           0.35,
           0.16,
           0.34,
           0.27,
           0.38,
           0.37,
           0.26,
           0.4,
           0.25,
           0.33,
           0.21,
           0.04,
           0.23,
           0.2,
           0.8,
           0.44,
           0.41,
           0.47,
           0.36,
           0.48,
           0.34
          ],
          [
           0.51,
           0.24,
           0.57,
           0.51,
           0.68,
           1,
           0.88,
           0.84,
           0.62,
           0.53,
           0.53,
           0.08,
           0.58,
           0.49,
           0.16,
           0.74,
           0.54,
           0.63,
           0.24,
           0.48,
           0.53,
           0.26,
           0.59,
           0.51,
           0.59,
           0.86,
           0.81,
           0.81,
           0.51,
           0.66,
           0.58
          ],
          [
           0.66,
           0.32,
           0.7,
           0.67,
           0.53,
           0.88,
           1,
           0.92,
           0.54,
           0.32,
           0.64,
           0.13,
           0.68,
           0.63,
           0.1,
           0.69,
           0.69,
           0.7,
           0.19,
           0.46,
           0.67,
           0.32,
           0.72,
           0.66,
           0.47,
           0.76,
           0.89,
           0.86,
           0.44,
           0.5,
           0.67
          ],
          [
           0.82,
           0.33,
           0.85,
           0.82,
           0.56,
           0.84,
           0.92,
           1,
           0.48,
           0.14,
           0.71,
           0.08,
           0.73,
           0.71,
           0.03,
           0.5,
           0.41,
           0.61,
           0.11,
           0.24,
           0.82,
           0.34,
           0.85,
           0.8,
           0.48,
           0.68,
           0.75,
           0.91,
           0.4,
           0.34,
           0.77
          ],
          [
           0.17,
           0.08,
           0.2,
           0.18,
           0.57,
           0.62,
           0.54,
           0.48,
           1,
           0.48,
           0.35,
           0.18,
           0.36,
           0.27,
           0.24,
           0.44,
           0.36,
           0.39,
           0.47,
           0.38,
           0.19,
           0.11,
           0.23,
           0.19,
           0.43,
           0.46,
           0.45,
           0.42,
           0.7,
           0.44,
           0.33
          ],
          [
           -0.34,
           -0.11,
           -0.29,
           -0.31,
           0.59,
           0.53,
           0.32,
           0.14,
           0.48,
           1,
           0.01,
           0.21,
           0.05,
           -0.09,
           0.49,
           0.56,
           0.46,
           0.36,
           0.36,
           0.73,
           -0.29,
           -0.1,
           -0.24,
           -0.27,
           0.49,
           0.38,
           0.3,
           0.11,
           0.27,
           0.75,
           -0.07
          ],
          [
           0.67,
           0.32,
           0.69,
           0.72,
           0.35,
           0.53,
           0.64,
           0.71,
           0.35,
           0.01,
           1,
           0.26,
           0.97,
           0.94,
           0.16,
           0.36,
           0.32,
           0.54,
           0.2,
           0.2,
           0.73,
           0.26,
           0.73,
           0.76,
           0.21,
           0.32,
           0.41,
           0.57,
           0.16,
           0.06,
           0.58
          ],
          [
           -0.08,
           0.35,
           -0.07,
           -0.05,
           0.16,
           0.08,
           0.13,
           0.08,
           0.18,
           0.21,
           0.26,
           1,
           0.26,
           0.14,
           0.51,
           0.26,
           0.22,
           0.28,
           0.42,
           0.35,
           -0.1,
           0.39,
           -0.09,
           -0.07,
           0,
           -0.09,
           -0.05,
           -0.09,
           -0.11,
           -0.02,
           0.03
          ],
          [
           0.66,
           0.33,
           0.69,
           0.71,
           0.34,
           0.58,
           0.68,
           0.73,
           0.36,
           0.05,
           0.97,
           0.26,
           1,
           0.93,
           0.15,
           0.44,
           0.35,
           0.59,
           0.22,
           0.22,
           0.71,
           0.26,
           0.74,
           0.75,
           0.2,
           0.39,
           0.46,
           0.6,
           0.17,
           0.1,
           0.57
          ],
          [
           0.74,
           0.31,
           0.75,
           0.8,
           0.27,
           0.49,
           0.63,
           0.71,
           0.27,
           -0.09,
           0.94,
           0.14,
           0.93,
           1,
           0.05,
           0.31,
           0.26,
           0.44,
           0.08,
           0.1,
           0.78,
           0.27,
           0.79,
           0.84,
           0.19,
           0.34,
           0.42,
           0.58,
           0.14,
           0.03,
           0.57
          ],
          [
           -0.27,
           -0.03,
           -0.24,
           -0.21,
           0.38,
           0.16,
           0.1,
           0.03,
           0.24,
           0.49,
           0.16,
           0.51,
           0.15,
           0.05,
           1,
           0.32,
           0.24,
           0.29,
           0.47,
           0.43,
           -0.26,
           -0.1,
           -0.25,
           -0.21,
           0.36,
           -0.06,
           -0.06,
           -0.12,
           -0.09,
           0.14,
           -0.09
          ],
          [
           0.2,
           0.14,
           0.24,
           0.21,
           0.37,
           0.74,
           0.69,
           0.5,
           0.44,
           0.56,
           0.36,
           0.26,
           0.44,
           0.31,
           0.32,
           1,
           0.79,
           0.72,
           0.39,
           0.77,
           0.2,
           0.12,
           0.26,
           0.2,
           0.27,
           0.71,
           0.67,
           0.49,
           0.3,
           0.62,
           0.26
          ],
          [
           0.15,
           0.1,
           0.18,
           0.17,
           0.26,
           0.54,
           0.69,
           0.41,
           0.36,
           0.46,
           0.32,
           0.22,
           0.35,
           0.26,
           0.24,
           0.79,
           1,
           0.77,
           0.31,
           0.75,
           0.15,
           0.08,
           0.19,
           0.16,
           0.19,
           0.48,
           0.68,
           0.43,
           0.23,
           0.46,
           0.21
          ],
          [
           0.35,
           0.15,
           0.38,
           0.35,
           0.4,
           0.63,
           0.7,
           0.61,
           0.39,
           0.36,
           0.54,
           0.28,
           0.59,
           0.44,
           0.29,
           0.72,
           0.77,
           1,
           0.3,
           0.6,
           0.34,
           0.1,
           0.37,
           0.32,
           0.26,
           0.47,
           0.58,
           0.61,
           0.16,
           0.33,
           0.39
          ],
          [
           -0.12,
           0,
           -0.1,
           -0.09,
           0.25,
           0.24,
           0.19,
           0.11,
           0.47,
           0.36,
           0.2,
           0.42,
           0.22,
           0.08,
           0.47,
           0.39,
           0.31,
           0.3,
           1,
           0.36,
           -0.14,
           -0.07,
           -0.12,
           -0.12,
           0.03,
           0.06,
           0.06,
           -0.03,
           0.43,
           0.08,
           -0.01
          ],
          [
           -0.1,
           0.01,
           -0.06,
           -0.07,
           0.33,
           0.48,
           0.46,
           0.24,
           0.38,
           0.73,
           0.2,
           0.35,
           0.22,
           0.1,
           0.43,
           0.77,
           0.75,
           0.6,
           0.36,
           1,
           -0.08,
           -0.02,
           -0.04,
           -0.06,
           0.22,
           0.39,
           0.4,
           0.2,
           0.13,
           0.65,
           0.03
          ],
          [
           0.97,
           0.38,
           0.97,
           0.97,
           0.21,
           0.53,
           0.67,
           0.82,
           0.19,
           -0.29,
           0.73,
           -0.1,
           0.71,
           0.78,
           -0.26,
           0.2,
           0.15,
           0.34,
           -0.14,
           -0.08,
           1,
           0.4,
           0.99,
           0.98,
           0.24,
           0.5,
           0.57,
           0.8,
           0.28,
           0.07,
           0.77
          ],
          [
           0.36,
           0.92,
           0.36,
           0.35,
           0.04,
           0.26,
           0.32,
           0.34,
           0.11,
           -0.1,
           0.26,
           0.39,
           0.26,
           0.27,
           -0.1,
           0.12,
           0.08,
           0.1,
           -0.07,
           -0.02,
           0.4,
           1,
           0.41,
           0.39,
           0.22,
           0.36,
           0.38,
           0.39,
           0.25,
           0.19,
           0.5
          ],
          [
           0.97,
           0.39,
           0.97,
           0.97,
           0.23,
           0.59,
           0.72,
           0.85,
           0.23,
           -0.24,
           0.73,
           -0.09,
           0.74,
           0.79,
           -0.25,
           0.26,
           0.19,
           0.37,
           -0.12,
           -0.04,
           0.99,
           0.41,
           1,
           0.98,
           0.27,
           0.56,
           0.62,
           0.83,
           0.31,
           0.12,
           0.78
          ],
          [
           0.94,
           0.37,
           0.94,
           0.97,
           0.2,
           0.51,
           0.66,
           0.8,
           0.19,
           -0.27,
           0.76,
           -0.07,
           0.75,
           0.84,
           -0.21,
           0.2,
           0.16,
           0.32,
           -0.12,
           -0.06,
           0.98,
           0.39,
           0.98,
           1,
           0.23,
           0.47,
           0.54,
           0.76,
           0.25,
           0.06,
           0.73
          ],
          [
           0.16,
           0.1,
           0.19,
           0.17,
           0.8,
           0.59,
           0.47,
           0.48,
           0.43,
           0.49,
           0.21,
           0,
           0.2,
           0.19,
           0.36,
           0.27,
           0.19,
           0.26,
           0.03,
           0.22,
           0.24,
           0.22,
           0.27,
           0.23,
           1,
           0.54,
           0.5,
           0.54,
           0.44,
           0.59,
           0.42
          ],
          [
           0.46,
           0.29,
           0.5,
           0.44,
           0.44,
           0.86,
           0.76,
           0.68,
           0.46,
           0.38,
           0.32,
           -0.09,
           0.39,
           0.34,
           -0.06,
           0.71,
           0.48,
           0.47,
           0.06,
           0.39,
           0.5,
           0.36,
           0.56,
           0.47,
           0.54,
           1,
           0.89,
           0.79,
           0.59,
           0.77,
           0.57
          ],
          [
           0.53,
           0.32,
           0.57,
           0.52,
           0.41,
           0.81,
           0.89,
           0.75,
           0.45,
           0.3,
           0.41,
           -0.05,
           0.46,
           0.42,
           -0.06,
           0.67,
           0.68,
           0.58,
           0.06,
           0.4,
           0.57,
           0.38,
           0.62,
           0.54,
           0.5,
           0.89,
           1,
           0.85,
           0.54,
           0.66,
           0.63
          ],
          [
           0.77,
           0.33,
           0.79,
           0.75,
           0.47,
           0.81,
           0.86,
           0.91,
           0.42,
           0.11,
           0.57,
           -0.09,
           0.6,
           0.58,
           -0.12,
           0.49,
           0.43,
           0.61,
           -0.03,
           0.2,
           0.8,
           0.39,
           0.83,
           0.76,
           0.54,
           0.79,
           0.85,
           1,
           0.5,
           0.47,
           0.78
          ],
          [
           0.23,
           0.14,
           0.25,
           0.22,
           0.36,
           0.51,
           0.44,
           0.4,
           0.7,
           0.27,
           0.16,
           -0.11,
           0.17,
           0.14,
           -0.09,
           0.3,
           0.23,
           0.16,
           0.43,
           0.13,
           0.28,
           0.25,
           0.31,
           0.25,
           0.44,
           0.59,
           0.54,
           0.5,
           1,
           0.48,
           0.41
          ],
          [
           0,
           0.11,
           0.04,
           0,
           0.48,
           0.66,
           0.5,
           0.34,
           0.44,
           0.75,
           0.06,
           -0.02,
           0.1,
           0.03,
           0.14,
           0.62,
           0.46,
           0.33,
           0.08,
           0.65,
           0.07,
           0.19,
           0.12,
           0.06,
           0.59,
           0.77,
           0.66,
           0.47,
           0.48,
           1,
           0.27
          ],
          [
           0.74,
           0.45,
           0.75,
           0.72,
           0.34,
           0.58,
           0.67,
           0.77,
           0.33,
           -0.07,
           0.58,
           0.03,
           0.57,
           0.57,
           -0.09,
           0.26,
           0.21,
           0.39,
           -0.01,
           0.03,
           0.77,
           0.5,
           0.78,
           0.73,
           0.42,
           0.57,
           0.63,
           0.78,
           0.41,
           0.27,
           1
          ]
         ]
        }
       ],
       "layout": {
        "coloraxis": {
         "colorscale": [
          [
           0,
           "#0d0887"
          ],
          [
           0.1111111111111111,
           "#46039f"
          ],
          [
           0.2222222222222222,
           "#7201a8"
          ],
          [
           0.3333333333333333,
           "#9c179e"
          ],
          [
           0.4444444444444444,
           "#bd3786"
          ],
          [
           0.5555555555555556,
           "#d8576b"
          ],
          [
           0.6666666666666666,
           "#ed7953"
          ],
          [
           0.7777777777777778,
           "#fb9f3a"
          ],
          [
           0.8888888888888888,
           "#fdca26"
          ],
          [
           1,
           "#f0f921"
          ]
         ]
        },
        "margin": {
         "t": 60
        },
        "template": {
         "data": {
          "bar": [
           {
            "error_x": {
             "color": "#2a3f5f"
            },
            "error_y": {
             "color": "#2a3f5f"
            },
            "marker": {
             "line": {
              "color": "#E5ECF6",
              "width": 0.5
             },
             "pattern": {
              "fillmode": "overlay",
              "size": 10,
              "solidity": 0.2
             }
            },
            "type": "bar"
           }
          ],
          "barpolar": [
           {
            "marker": {
             "line": {
              "color": "#E5ECF6",
              "width": 0.5
             },
             "pattern": {
              "fillmode": "overlay",
              "size": 10,
              "solidity": 0.2
             }
            },
            "type": "barpolar"
           }
          ],
          "carpet": [
           {
            "aaxis": {
             "endlinecolor": "#2a3f5f",
             "gridcolor": "white",
             "linecolor": "white",
             "minorgridcolor": "white",
             "startlinecolor": "#2a3f5f"
            },
            "baxis": {
             "endlinecolor": "#2a3f5f",
             "gridcolor": "white",
             "linecolor": "white",
             "minorgridcolor": "white",
             "startlinecolor": "#2a3f5f"
            },
            "type": "carpet"
           }
          ],
          "choropleth": [
           {
            "colorbar": {
             "outlinewidth": 0,
             "ticks": ""
            },
            "type": "choropleth"
           }
          ],
          "contour": [
           {
            "colorbar": {
             "outlinewidth": 0,
             "ticks": ""
            },
            "colorscale": [
             [
              0,
              "#0d0887"
             ],
             [
              0.1111111111111111,
              "#46039f"
             ],
             [
              0.2222222222222222,
              "#7201a8"
             ],
             [
              0.3333333333333333,
              "#9c179e"
             ],
             [
              0.4444444444444444,
              "#bd3786"
             ],
             [
              0.5555555555555556,
              "#d8576b"
             ],
             [
              0.6666666666666666,
              "#ed7953"
             ],
             [
              0.7777777777777778,
              "#fb9f3a"
             ],
             [
              0.8888888888888888,
              "#fdca26"
             ],
             [
              1,
              "#f0f921"
             ]
            ],
            "type": "contour"
           }
          ],
          "contourcarpet": [
           {
            "colorbar": {
             "outlinewidth": 0,
             "ticks": ""
            },
            "type": "contourcarpet"
           }
          ],
          "heatmap": [
           {
            "colorbar": {
             "outlinewidth": 0,
             "ticks": ""
            },
            "colorscale": [
             [
              0,
              "#0d0887"
             ],
             [
              0.1111111111111111,
              "#46039f"
             ],
             [
              0.2222222222222222,
              "#7201a8"
             ],
             [
              0.3333333333333333,
              "#9c179e"
             ],
             [
              0.4444444444444444,
              "#bd3786"
             ],
             [
              0.5555555555555556,
              "#d8576b"
             ],
             [
              0.6666666666666666,
              "#ed7953"
             ],
             [
              0.7777777777777778,
              "#fb9f3a"
             ],
             [
              0.8888888888888888,
              "#fdca26"
             ],
             [
              1,
              "#f0f921"
             ]
            ],
            "type": "heatmap"
           }
          ],
          "heatmapgl": [
           {
            "colorbar": {
             "outlinewidth": 0,
             "ticks": ""
            },
            "colorscale": [
             [
              0,
              "#0d0887"
             ],
             [
              0.1111111111111111,
              "#46039f"
             ],
             [
              0.2222222222222222,
              "#7201a8"
             ],
             [
              0.3333333333333333,
              "#9c179e"
             ],
             [
              0.4444444444444444,
              "#bd3786"
             ],
             [
              0.5555555555555556,
              "#d8576b"
             ],
             [
              0.6666666666666666,
              "#ed7953"
             ],
             [
              0.7777777777777778,
              "#fb9f3a"
             ],
             [
              0.8888888888888888,
              "#fdca26"
             ],
             [
              1,
              "#f0f921"
             ]
            ],
            "type": "heatmapgl"
           }
          ],
          "histogram": [
           {
            "marker": {
             "pattern": {
              "fillmode": "overlay",
              "size": 10,
              "solidity": 0.2
             }
            },
            "type": "histogram"
           }
          ],
          "histogram2d": [
           {
            "colorbar": {
             "outlinewidth": 0,
             "ticks": ""
            },
            "colorscale": [
             [
              0,
              "#0d0887"
             ],
             [
              0.1111111111111111,
              "#46039f"
             ],
             [
              0.2222222222222222,
              "#7201a8"
             ],
             [
              0.3333333333333333,
              "#9c179e"
             ],
             [
              0.4444444444444444,
              "#bd3786"
             ],
             [
              0.5555555555555556,
              "#d8576b"
             ],
             [
              0.6666666666666666,
              "#ed7953"
             ],
             [
              0.7777777777777778,
              "#fb9f3a"
             ],
             [
              0.8888888888888888,
              "#fdca26"
             ],
             [
              1,
              "#f0f921"
             ]
            ],
            "type": "histogram2d"
           }
          ],
          "histogram2dcontour": [
           {
            "colorbar": {
             "outlinewidth": 0,
             "ticks": ""
            },
            "colorscale": [
             [
              0,
              "#0d0887"
             ],
             [
              0.1111111111111111,
              "#46039f"
             ],
             [
              0.2222222222222222,
              "#7201a8"
             ],
             [
              0.3333333333333333,
              "#9c179e"
             ],
             [
              0.4444444444444444,
              "#bd3786"
             ],
             [
              0.5555555555555556,
              "#d8576b"
             ],
             [
              0.6666666666666666,
              "#ed7953"
             ],
             [
              0.7777777777777778,
              "#fb9f3a"
             ],
             [
              0.8888888888888888,
              "#fdca26"
             ],
             [
              1,
              "#f0f921"
             ]
            ],
            "type": "histogram2dcontour"
           }
          ],
          "mesh3d": [
           {
            "colorbar": {
             "outlinewidth": 0,
             "ticks": ""
            },
            "type": "mesh3d"
           }
          ],
          "parcoords": [
           {
            "line": {
             "colorbar": {
              "outlinewidth": 0,
              "ticks": ""
             }
            },
            "type": "parcoords"
           }
          ],
          "pie": [
           {
            "automargin": true,
            "type": "pie"
           }
          ],
          "scatter": [
           {
            "fillpattern": {
             "fillmode": "overlay",
             "size": 10,
             "solidity": 0.2
            },
            "type": "scatter"
           }
          ],
          "scatter3d": [
           {
            "line": {
             "colorbar": {
              "outlinewidth": 0,
              "ticks": ""
             }
            },
            "marker": {
             "colorbar": {
              "outlinewidth": 0,
              "ticks": ""
             }
            },
            "type": "scatter3d"
           }
          ],
          "scattercarpet": [
           {
            "marker": {
             "colorbar": {
              "outlinewidth": 0,
              "ticks": ""
             }
            },
            "type": "scattercarpet"
           }
          ],
          "scattergeo": [
           {
            "marker": {
             "colorbar": {
              "outlinewidth": 0,
              "ticks": ""
             }
            },
            "type": "scattergeo"
           }
          ],
          "scattergl": [
           {
            "marker": {
             "colorbar": {
              "outlinewidth": 0,
              "ticks": ""
             }
            },
            "type": "scattergl"
           }
          ],
          "scattermapbox": [
           {
            "marker": {
             "colorbar": {
              "outlinewidth": 0,
              "ticks": ""
             }
            },
            "type": "scattermapbox"
           }
          ],
          "scatterpolar": [
           {
            "marker": {
             "colorbar": {
              "outlinewidth": 0,
              "ticks": ""
             }
            },
            "type": "scatterpolar"
           }
          ],
          "scatterpolargl": [
           {
            "marker": {
             "colorbar": {
              "outlinewidth": 0,
              "ticks": ""
             }
            },
            "type": "scatterpolargl"
           }
          ],
          "scatterternary": [
           {
            "marker": {
             "colorbar": {
              "outlinewidth": 0,
              "ticks": ""
             }
            },
            "type": "scatterternary"
           }
          ],
          "surface": [
           {
            "colorbar": {
             "outlinewidth": 0,
             "ticks": ""
            },
            "colorscale": [
             [
              0,
              "#0d0887"
             ],
             [
              0.1111111111111111,
              "#46039f"
             ],
             [
              0.2222222222222222,
              "#7201a8"
             ],
             [
              0.3333333333333333,
              "#9c179e"
             ],
             [
              0.4444444444444444,
              "#bd3786"
             ],
             [
              0.5555555555555556,
              "#d8576b"
             ],
             [
              0.6666666666666666,
              "#ed7953"
             ],
             [
              0.7777777777777778,
              "#fb9f3a"
             ],
             [
              0.8888888888888888,
              "#fdca26"
             ],
             [
              1,
              "#f0f921"
             ]
            ],
            "type": "surface"
           }
          ],
          "table": [
           {
            "cells": {
             "fill": {
              "color": "#EBF0F8"
             },
             "line": {
              "color": "white"
             }
            },
            "header": {
             "fill": {
              "color": "#C8D4E3"
             },
             "line": {
              "color": "white"
             }
            },
            "type": "table"
           }
          ]
         },
         "layout": {
          "annotationdefaults": {
           "arrowcolor": "#2a3f5f",
           "arrowhead": 0,
           "arrowwidth": 1
          },
          "autotypenumbers": "strict",
          "coloraxis": {
           "colorbar": {
            "outlinewidth": 0,
            "ticks": ""
           }
          },
          "colorscale": {
           "diverging": [
            [
             0,
             "#8e0152"
            ],
            [
             0.1,
             "#c51b7d"
            ],
            [
             0.2,
             "#de77ae"
            ],
            [
             0.3,
             "#f1b6da"
            ],
            [
             0.4,
             "#fde0ef"
            ],
            [
             0.5,
             "#f7f7f7"
            ],
            [
             0.6,
             "#e6f5d0"
            ],
            [
             0.7,
             "#b8e186"
            ],
            [
             0.8,
             "#7fbc41"
            ],
            [
             0.9,
             "#4d9221"
            ],
            [
             1,
             "#276419"
            ]
           ],
           "sequential": [
            [
             0,
             "#0d0887"
            ],
            [
             0.1111111111111111,
             "#46039f"
            ],
            [
             0.2222222222222222,
             "#7201a8"
            ],
            [
             0.3333333333333333,
             "#9c179e"
            ],
            [
             0.4444444444444444,
             "#bd3786"
            ],
            [
             0.5555555555555556,
             "#d8576b"
            ],
            [
             0.6666666666666666,
             "#ed7953"
            ],
            [
             0.7777777777777778,
             "#fb9f3a"
            ],
            [
             0.8888888888888888,
             "#fdca26"
            ],
            [
             1,
             "#f0f921"
            ]
           ],
           "sequentialminus": [
            [
             0,
             "#0d0887"
            ],
            [
             0.1111111111111111,
             "#46039f"
            ],
            [
             0.2222222222222222,
             "#7201a8"
            ],
            [
             0.3333333333333333,
             "#9c179e"
            ],
            [
             0.4444444444444444,
             "#bd3786"
            ],
            [
             0.5555555555555556,
             "#d8576b"
            ],
            [
             0.6666666666666666,
             "#ed7953"
            ],
            [
             0.7777777777777778,
             "#fb9f3a"
            ],
            [
             0.8888888888888888,
             "#fdca26"
            ],
            [
             1,
             "#f0f921"
            ]
           ]
          },
          "colorway": [
           "#636efa",
           "#EF553B",
           "#00cc96",
           "#ab63fa",
           "#FFA15A",
           "#19d3f3",
           "#FF6692",
           "#B6E880",
           "#FF97FF",
           "#FECB52"
          ],
          "font": {
           "color": "#2a3f5f"
          },
          "geo": {
           "bgcolor": "white",
           "lakecolor": "white",
           "landcolor": "#E5ECF6",
           "showlakes": true,
           "showland": true,
           "subunitcolor": "white"
          },
          "hoverlabel": {
           "align": "left"
          },
          "hovermode": "closest",
          "mapbox": {
           "style": "light"
          },
          "paper_bgcolor": "white",
          "plot_bgcolor": "#E5ECF6",
          "polar": {
           "angularaxis": {
            "gridcolor": "white",
            "linecolor": "white",
            "ticks": ""
           },
           "bgcolor": "#E5ECF6",
           "radialaxis": {
            "gridcolor": "white",
            "linecolor": "white",
            "ticks": ""
           }
          },
          "scene": {
           "xaxis": {
            "backgroundcolor": "#E5ECF6",
            "gridcolor": "white",
            "gridwidth": 2,
            "linecolor": "white",
            "showbackground": true,
            "ticks": "",
            "zerolinecolor": "white"
           },
           "yaxis": {
            "backgroundcolor": "#E5ECF6",
            "gridcolor": "white",
            "gridwidth": 2,
            "linecolor": "white",
            "showbackground": true,
            "ticks": "",
            "zerolinecolor": "white"
           },
           "zaxis": {
            "backgroundcolor": "#E5ECF6",
            "gridcolor": "white",
            "gridwidth": 2,
            "linecolor": "white",
            "showbackground": true,
            "ticks": "",
            "zerolinecolor": "white"
           }
          },
          "shapedefaults": {
           "line": {
            "color": "#2a3f5f"
           }
          },
          "ternary": {
           "aaxis": {
            "gridcolor": "white",
            "linecolor": "white",
            "ticks": ""
           },
           "baxis": {
            "gridcolor": "white",
            "linecolor": "white",
            "ticks": ""
           },
           "bgcolor": "#E5ECF6",
           "caxis": {
            "gridcolor": "white",
            "linecolor": "white",
            "ticks": ""
           }
          },
          "title": {
           "x": 0.05
          },
          "xaxis": {
           "automargin": true,
           "gridcolor": "white",
           "linecolor": "white",
           "ticks": "",
           "title": {
            "standoff": 15
           },
           "zerolinecolor": "white",
           "zerolinewidth": 2
          },
          "yaxis": {
           "automargin": true,
           "gridcolor": "white",
           "linecolor": "white",
           "ticks": "",
           "title": {
            "standoff": 15
           },
           "zerolinecolor": "white",
           "zerolinewidth": 2
          }
         }
        },
        "xaxis": {
         "anchor": "y",
         "constrain": "domain",
         "domain": [
          0,
          1
         ],
         "scaleanchor": "y"
        },
        "yaxis": {
         "anchor": "x",
         "autorange": "reversed",
         "constrain": "domain",
         "domain": [
          0,
          1
         ]
        }
       }
      }
     },
     "metadata": {},
     "output_type": "display_data"
    }
   ],
   "source": [
    "corr = X_raw.select_dtypes(include=['float64', 'int64']).corr().round(2)\n",
    "px.imshow(corr, text_auto=True).show()\n"
   ]
  },
  {
   "cell_type": "code",
   "execution_count": 11,
   "id": "9daa5a0d",
   "metadata": {},
   "outputs": [],
   "source": [
    "X_train = X_raw.drop(['diagnosis', 'diagnosis_e'], axis=1)\n",
    "y_train = X_raw['diagnosis']"
   ]
  },
  {
   "cell_type": "markdown",
   "id": "5bdff155",
   "metadata": {},
   "source": [
    " Let's try **Random Forest** and **AdaBoost**."
   ]
  },
  {
   "cell_type": "code",
   "execution_count": 12,
   "id": "0d0b8e3a",
   "metadata": {},
   "outputs": [
    {
     "data": {
      "text/plain": [
       "{'fit_time': array([0.47401047, 0.48507547, 0.49155712, 0.49288893]),\n",
       " 'score_time': array([0.02799296, 0.02995515, 0.03516912, 0.03998566]),\n",
       " 'test_score': array([0.94      , 0.89      , 0.93939394, 0.96969697])}"
      ]
     },
     "execution_count": 12,
     "metadata": {},
     "output_type": "execute_result"
    }
   ],
   "source": [
    "from sklearn.ensemble import RandomForestClassifier\n",
    "from sklearn.model_selection import cross_validate\n",
    "clf = RandomForestClassifier(max_depth=2, random_state=42)\n",
    "cv_results = cross_validate(clf, X_train, y_train, cv=4)\n",
    "cv_results\n"
   ]
  },
  {
   "cell_type": "markdown",
   "id": "91619072",
   "metadata": {},
   "source": [
    "**GridSearchCV** helps us find the optimal parameters for our model. However, in some cases, it can cause *overfitting*."
   ]
  },
  {
   "cell_type": "markdown",
   "id": "6b9718ef",
   "metadata": {},
   "source": [
    "Since the **AdaBoost** classifier gives us better results, we'll use it as our main model."
   ]
  },
  {
   "cell_type": "code",
   "execution_count": 13,
   "id": "868d517e",
   "metadata": {},
   "outputs": [
    {
     "name": "stdout",
     "output_type": "stream",
     "text": [
      "Best Parameters: {'estimator__max_depth': 2, 'learning_rate': 0.1, 'n_estimators': 70}\n",
      "Best Score: 0.9548232323232324\n"
     ]
    },
    {
     "data": {
      "text/plain": [
       "{'fit_time': array([0.6495235 , 0.60178471, 0.55623507, 0.62149525]),\n",
       " 'score_time': array([0.03965902, 0.03642607, 0.04096198, 0.03979897]),\n",
       " 'test_score': array([0.97      , 0.92      , 0.95959596, 0.96969697])}"
      ]
     },
     "execution_count": 13,
     "metadata": {},
     "output_type": "execute_result"
    }
   ],
   "source": [
    "from sklearn.tree import DecisionTreeClassifier\n",
    "from sklearn.ensemble import AdaBoostClassifier\n",
    "from sklearn.model_selection import GridSearchCV\n",
    "param_grid = {\n",
    "    'n_estimators': [ 30, 50, 70],\n",
    "    'learning_rate': [  0.1, 0.05],\n",
    "    'estimator__max_depth': [None,  2, 3]\n",
    "   # 'base_estimator__min_samples_split': [2, 5, 10]\n",
    "}\n",
    "tree_clf = DecisionTreeClassifier(max_depth=2, random_state=42)\n",
    "ada_clf = AdaBoostClassifier(estimator=tree_clf, n_estimators=50, learning_rate=0.5, random_state=42)\n",
    "grid_search = GridSearchCV(ada_clf, param_grid, cv=4, scoring='accuracy')\n",
    "grid_search.fit(X_train, y_train)\n",
    "print(\"Best Parameters:\", grid_search.best_params_)\n",
    "print(\"Best Score:\", grid_search.best_score_)\n",
    "cv_results = cross_validate(ada_clf, X_train, y_train, cv=4)\n",
    "cv_results"
   ]
  },
  {
   "cell_type": "markdown",
   "id": "6dee7844",
   "metadata": {},
   "source": [
    "Now let's load **test** dataset for submission and make a prediction for it"
   ]
  },
  {
   "cell_type": "code",
   "execution_count": null,
   "id": "69fafcdf",
   "metadata": {},
   "outputs": [],
   "source": [
    "X_test_full = pd.read_csv('../data/test.csv')\n",
    "X_test = X_test_full.drop('Unnamed: 32', axis=1)\n",
    "X_test = X_test.drop('id', axis=1)"
   ]
  },
  {
   "cell_type": "markdown",
   "id": "bf922d7d",
   "metadata": {},
   "source": [
    "Since GridSearch was slightly overfitted, we tuned the learning rate and number of estimators, achieving an accuracy of about _**0.97**_ While GridSearch best estimator gives _**0.953**_."
   ]
  },
  {
   "cell_type": "code",
   "execution_count": null,
   "id": "a6a8aabc",
   "metadata": {},
   "outputs": [],
   "source": [
    "ada_clf.fit(X_train, y_train)\n",
    "pred = ada_clf.predict(X_test)\n",
    "submission = pd.DataFrame({\n",
    "    'id': X_test_full['id'],\n",
    "    'diagnosis': pred\n",
    "})\n",
    "submission.to_csv('../submissions/ada_submission.csv', index=False)"
   ]
  },
  {
   "cell_type": "code",
   "execution_count": null,
   "id": "ef5c5905",
   "metadata": {},
   "outputs": [],
   "source": [
    "  "
   ]
  }
 ],
 "metadata": {
  "kernelspec": {
   "display_name": "venv",
   "language": "python",
   "name": "python3"
  },
  "language_info": {
   "codemirror_mode": {
    "name": "ipython",
    "version": 3
   },
   "file_extension": ".py",
   "mimetype": "text/x-python",
   "name": "python",
   "nbconvert_exporter": "python",
   "pygments_lexer": "ipython3",
   "version": "3.10.10"
  }
 },
 "nbformat": 4,
 "nbformat_minor": 5
}
